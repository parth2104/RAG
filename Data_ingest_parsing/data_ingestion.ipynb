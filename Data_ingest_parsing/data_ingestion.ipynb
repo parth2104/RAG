{
 "cells": [
  {
   "cell_type": "code",
   "execution_count": 1,
   "id": "90d56d5d",
   "metadata": {},
   "outputs": [
    {
     "name": "stdout",
     "output_type": "stream",
     "text": [
      "setup is complited\n"
     ]
    }
   ],
   "source": [
    "from  langchain_core.documents import Document\n",
    "from langchain.text_splitter import (RecursiveCharacterTextSplitter,\n",
    "                                     CharacterTextSplitter,\n",
    "                                     TokenTextSplitter)\n",
    "print(\"setup is complited\")"
   ]
  },
  {
   "cell_type": "markdown",
   "id": "fa04e645",
   "metadata": {},
   "source": [
    "# Understand the document structure in langchain"
   ]
  },
  {
   "cell_type": "code",
   "execution_count": 2,
   "id": "a098a56d",
   "metadata": {},
   "outputs": [
    {
     "name": "stdout",
     "output_type": "stream",
     "text": [
      "Document Structure\n",
      "Content :This is the main text content that will be embedded and searched.\n",
      "Metadata :{'source': 'example.txt', 'page': 1, 'author': 'Parth Barot', 'date_created': '2024-01-01', 'cutom_field': 'any_value'}\n",
      "\n",
      " Metadata is crucial for:\n",
      "- Filtering search results\n",
      "- Tracking document sources\n",
      "- Providing context in responses\n",
      "- Debugging and auditing\n"
     ]
    }
   ],
   "source": [
    "## create a simple document\n",
    "doc=Document(\n",
    "    page_content=\"This is the main text content that will be embedded and searched.\",\n",
    "    metadata={\n",
    "        \"source\":\"example.txt\",\n",
    "        \"page\":1,\n",
    "        \"author\":\"Parth Barot\",\n",
    "        \"date_created\":\"2024-01-01\",\n",
    "        \"cutom_field\":\"any_value\"\n",
    "\n",
    "    }\n",
    ")\n",
    "print(\"Document Structure\")\n",
    "\n",
    "print(f\"Content :{doc.page_content}\")\n",
    "print(f\"Metadata :{doc.metadata}\")\n",
    "\n",
    "# Why metadata matters:\n",
    "print(\"\\n Metadata is crucial for:\")\n",
    "print(\"- Filtering search results\")\n",
    "print(\"- Tracking document sources\")\n",
    "print(\"- Providing context in responses\")\n",
    "print(\"- Debugging and auditing\")"
   ]
  },
  {
   "cell_type": "code",
   "execution_count": 3,
   "id": "1c0d6639",
   "metadata": {},
   "outputs": [
    {
     "data": {
      "text/plain": [
       "langchain_core.documents.base.Document"
      ]
     },
     "execution_count": 3,
     "metadata": {},
     "output_type": "execute_result"
    }
   ],
   "source": [
    "type(doc)"
   ]
  },
  {
   "cell_type": "markdown",
   "id": "3b1de53f",
   "metadata": {},
   "source": [
    "### Text Files (.txt) "
   ]
  },
  {
   "cell_type": "code",
   "execution_count": 4,
   "id": "c9c000ae",
   "metadata": {},
   "outputs": [],
   "source": [
    "import os\n",
    "os.makedirs(\"data/text_file\",exist_ok=True)"
   ]
  },
  {
   "cell_type": "code",
   "execution_count": 5,
   "id": "02d2bcad",
   "metadata": {},
   "outputs": [],
   "source": [
    "sample_text={\n",
    "    \"data/text_file/python_intro.txt\":\"\"\"Python Programming Introduction\n",
    "\n",
    "Python is a high-level, interpreted programming language known for its simplicity and readability.\n",
    "Created by Guido van Rossum and first released in 1991, Python has become one of the most popular\n",
    "programming languages in the world.\n",
    "\n",
    "Key Features:\n",
    "- Easy to learn and use\n",
    "- Extensive standard library\n",
    "- Cross-platform compatibility\n",
    "- Strong community support\n",
    "\n",
    "Python is widely used in web development, data science, artificial intelligence, and automation.\"\"\",\n",
    "    \n",
    "\"data/text_file/machine_learning.txt\": \"\"\"Machine Learning Basics\n",
    "\n",
    "Machine learning is a subset of artificial intelligence that enables systems to learn and improve\n",
    "from experience without being explicitly programmed. It focuses on developing computer programs\n",
    "that can access data and use it to learn for themselves.\n",
    "\n",
    "Types of Machine Learning:\n",
    "1. Supervised Learning: Learning with labeled data\n",
    "2. Unsupervised Learning: Finding patterns in unlabeled data\n",
    "3. Reinforcement Learning: Learning through rewards and penalties\n",
    "\n",
    "Applications include image recognition, speech processing, and recommendation systems\n",
    "    \n",
    "    \n",
    "    \"\"\"\n",
    "}\n",
    "\n",
    "for filepath,content in sample_text.items():\n",
    "    with open(filepath,'w',encoding=\"utf-8\") as f:\n",
    "        f.write(content)\n",
    "\n"
   ]
  },
  {
   "cell_type": "markdown",
   "id": "76f00bc6",
   "metadata": {},
   "source": [
    "TextLoader"
   ]
  },
  {
   "cell_type": "code",
   "execution_count": 6,
   "id": "f192e502",
   "metadata": {},
   "outputs": [
    {
     "name": "stdout",
     "output_type": "stream",
     "text": [
      "len of document  1\n",
      "content preview Python Programming Introduction\n",
      "\n",
      "Python is a high-level, interpreted programming language known for \n",
      "meta data of document  {'source': 'E:\\\\RAG\\\\Data_ingest_parsing\\\\data\\\\text_file\\\\python_intro.txt'}\n"
     ]
    }
   ],
   "source": [
    "from langchain.document_loaders import TextLoader\n",
    "from langchain_community.document_loaders import TextLoader\n",
    "import warnings\n",
    "warnings.filterwarnings(\"ignore\")\n",
    "\n",
    "loader=TextLoader(r\"E:\\RAG\\Data_ingest_parsing\\data\\text_file\\python_intro.txt\",encoding=\"utf-8\")\n",
    "\n",
    "document= loader.load()\n",
    "\n",
    "print(f\"len of document  {len(document)}\")\n",
    "print(f\"content preview {document[0].page_content[:100]}\")\n",
    "print(f\"meta data of document  {document[0].metadata}\")\n"
   ]
  },
  {
   "cell_type": "markdown",
   "id": "cb92e4ea",
   "metadata": {},
   "source": [
    "#Multiple TextfileLoadder"
   ]
  },
  {
   "cell_type": "code",
   "execution_count": 7,
   "id": "50275346",
   "metadata": {},
   "outputs": [
    {
     "name": "stderr",
     "output_type": "stream",
     "text": [
      "100%|██████████| 2/2 [00:00<00:00, 133.36it/s]\n"
     ]
    },
    {
     "data": {
      "text/plain": [
       "[Document(metadata={'source': 'E:\\\\RAG\\\\Data_ingest_parsing\\\\data\\\\text_file\\\\machine_learning.txt'}, page_content='Machine Learning Basics\\n\\nMachine learning is a subset of artificial intelligence that enables systems to learn and improve\\nfrom experience without being explicitly programmed. It focuses on developing computer programs\\nthat can access data and use it to learn for themselves.\\n\\nTypes of Machine Learning:\\n1. Supervised Learning: Learning with labeled data\\n2. Unsupervised Learning: Finding patterns in unlabeled data\\n3. Reinforcement Learning: Learning through rewards and penalties\\n\\nApplications include image recognition, speech processing, and recommendation systems\\n\\n\\n    '),\n",
       " Document(metadata={'source': 'E:\\\\RAG\\\\Data_ingest_parsing\\\\data\\\\text_file\\\\python_intro.txt'}, page_content='Python Programming Introduction\\n\\nPython is a high-level, interpreted programming language known for its simplicity and readability.\\nCreated by Guido van Rossum and first released in 1991, Python has become one of the most popular\\nprogramming languages in the world.\\n\\nKey Features:\\n- Easy to learn and use\\n- Extensive standard library\\n- Cross-platform compatibility\\n- Strong community support\\n\\nPython is widely used in web development, data science, artificial intelligence, and automation.')]"
      ]
     },
     "execution_count": 7,
     "metadata": {},
     "output_type": "execute_result"
    }
   ],
   "source": [
    "from langchain_community.document_loaders import DirectoryLoader\n",
    "\n",
    "dir_loader= DirectoryLoader(\n",
    "    \"E:\\RAG\\Data_ingest_parsing\\data\",\n",
    "    glob=\"**/*.txt\",\n",
    "    loader_cls=TextLoader,\n",
    "    loader_kwargs={'encoding': 'utf-8'},\n",
    "    show_progress=True\n",
    "\n",
    ")\n",
    "\n",
    "documents=dir_loader.load()\n",
    "documents"
   ]
  },
  {
   "cell_type": "code",
   "execution_count": 8,
   "id": "289e7b43",
   "metadata": {},
   "outputs": [],
   "source": [
    "text=documents[0].page_content"
   ]
  },
  {
   "cell_type": "markdown",
   "id": "4b840c77",
   "metadata": {},
   "source": [
    "TextSpliter"
   ]
  },
  {
   "cell_type": "code",
   "execution_count": 15,
   "id": "61b02682",
   "metadata": {},
   "outputs": [],
   "source": [
    "from langchain.text_splitter import CharacterTextSplitter\n",
    "\n",
    "char=CharacterTextSplitter(\n",
    "    separator= \"\\n\",\n",
    "    chunk_size=200,\n",
    "    chunk_overlap=20,\n",
    "    length_function=len\n",
    ")"
   ]
  },
  {
   "cell_type": "code",
   "execution_count": 16,
   "id": "3371b11a",
   "metadata": {},
   "outputs": [],
   "source": [
    "docu=char.split_text(text)"
   ]
  },
  {
   "cell_type": "code",
   "execution_count": 17,
   "id": "1141a598",
   "metadata": {},
   "outputs": [
    {
     "data": {
      "text/plain": [
       "['Machine Learning Basics\\nMachine learning is a subset of artificial intelligence that enables systems to learn and improve',\n",
       " 'from experience without being explicitly programmed. It focuses on developing computer programs\\nthat can access data and use it to learn for themselves.\\nTypes of Machine Learning:',\n",
       " '1. Supervised Learning: Learning with labeled data\\n2. Unsupervised Learning: Finding patterns in unlabeled data\\n3. Reinforcement Learning: Learning through rewards and penalties',\n",
       " 'Applications include image recognition, speech processing, and recommendation systems']"
      ]
     },
     "execution_count": 17,
     "metadata": {},
     "output_type": "execute_result"
    }
   ],
   "source": [
    "docu"
   ]
  },
  {
   "cell_type": "code",
   "execution_count": 18,
   "id": "e8884957",
   "metadata": {},
   "outputs": [
    {
     "name": "stdout",
     "output_type": "stream",
     "text": [
      "chunks['Machine Learning Basics\\nMachine learning is a subset of artificial intelligence that enables systems to learn and improve', 'from experience without being explicitly programmed. It focuses on developing computer programs\\nthat can access data and use it to learn for themselves.\\nTypes of Machine Learning:', '1. Supervised Learning: Learning with labeled data\\n2. Unsupervised Learning: Finding patterns in unlabeled data\\n3. Reinforcement Learning: Learning through rewards and penalties', 'Applications include image recognition, speech processing, and recommendation systems']\n"
     ]
    }
   ],
   "source": [
    "print(f\"chunks{docu}\")"
   ]
  },
  {
   "cell_type": "code",
   "execution_count": 21,
   "id": "a1a1cfc5",
   "metadata": {},
   "outputs": [
    {
     "name": "stdout",
     "output_type": "stream",
     "text": [
      "chunk Machine Learning Basics\n",
      "Machine learning is a subset of artificial intelligence that enables systems to learn and improve\n",
      "---------------------------------\n",
      "chunk from experience without being explicitly programmed. It focuses on developing computer programs\n",
      "that can access data and use it to learn for themselves.\n",
      "Types of Machine Learning:\n"
     ]
    }
   ],
   "source": [
    "print(f\"chunk {docu[0]}\")\n",
    "print(\"---------------------------------\")\n",
    "print(f\"chunk {docu[1]}\")"
   ]
  },
  {
   "cell_type": "code",
   "execution_count": 34,
   "id": "65777e1c",
   "metadata": {},
   "outputs": [],
   "source": [
    "from langchain.text_splitter import RecursiveCharacterTextSplitter\n",
    "recu=RecursiveCharacterTextSplitter(\n",
    "    separators=[\"\\n\\n\",\"\\n\",\" \",\".\"],\n",
    "    chunk_size=200,\n",
    "    chunk_overlap=20,\n",
    "    length_function=len\n",
    ")"
   ]
  },
  {
   "cell_type": "code",
   "execution_count": 35,
   "id": "30f1f5af",
   "metadata": {},
   "outputs": [],
   "source": [
    "tex=recu.split_text(text)"
   ]
  },
  {
   "cell_type": "code",
   "execution_count": 36,
   "id": "81c6e0ba",
   "metadata": {},
   "outputs": [
    {
     "data": {
      "text/plain": [
       "['Machine Learning Basics',\n",
       " 'Machine learning is a subset of artificial intelligence that enables systems to learn and improve\\nfrom experience without being explicitly programmed. It focuses on developing computer programs',\n",
       " 'that can access data and use it to learn for themselves.',\n",
       " 'Types of Machine Learning:\\n1. Supervised Learning: Learning with labeled data\\n2. Unsupervised Learning: Finding patterns in unlabeled data',\n",
       " '3. Reinforcement Learning: Learning through rewards and penalties',\n",
       " 'Applications include image recognition, speech processing, and recommendation systems']"
      ]
     },
     "execution_count": 36,
     "metadata": {},
     "output_type": "execute_result"
    }
   ],
   "source": [
    "tex"
   ]
  },
  {
   "cell_type": "code",
   "execution_count": 37,
   "id": "6225fe3d",
   "metadata": {},
   "outputs": [
    {
     "name": "stdout",
     "output_type": "stream",
     "text": [
      "number of chunks 6\n",
      "Machine Learning Basics\n",
      "-------------------------------\n",
      "Machine learning is a subset of artificial intelligence that enables systems to learn and improve\n",
      "from experience without being explicitly programmed. It focuses on developing computer programs\n",
      "------------------------\n",
      "that can access data and use it to learn for themselves.\n",
      "-------------------------------\n",
      "Types of Machine Learning:\n",
      "1. Supervised Learning: Learning with labeled data\n",
      "2. Unsupervised Learning: Finding patterns in unlabeled data\n",
      "---------------------------------\n",
      "3. Reinforcement Learning: Learning through rewards and penalties\n"
     ]
    }
   ],
   "source": [
    "print(f\"number of chunks {len(tex)}\")\n",
    "print(tex[0])\n",
    "print(\"-------------------------------\")\n",
    "print(tex[1])\n",
    "print(\"------------------------\")\n",
    "print(tex[2])\n",
    "print(\"-------------------------------\")\n",
    "print(tex[3])\n",
    "print(\"---------------------------------\")\n",
    "print(tex[4])"
   ]
  },
  {
   "cell_type": "code",
   "execution_count": 45,
   "id": "4159ab5a",
   "metadata": {},
   "outputs": [],
   "source": [
    "from langchain.text_splitter import TokenTextSplitter\n",
    "token=TokenTextSplitter(\n",
    "    chunk_size=50,\n",
    "    chunk_overlap=10\n",
    "\n",
    ")"
   ]
  },
  {
   "cell_type": "code",
   "execution_count": 46,
   "id": "dd6e98df",
   "metadata": {},
   "outputs": [],
   "source": [
    "tok=token.split_text(text)"
   ]
  },
  {
   "cell_type": "code",
   "execution_count": 47,
   "id": "6b5a713e",
   "metadata": {},
   "outputs": [
    {
     "name": "stdout",
     "output_type": "stream",
     "text": [
      "3\n",
      "-----------------------\n",
      "Machine Learning Basics\n",
      "\n",
      "Machine learning is a subset of artificial intelligence that enables systems to learn and improve\n",
      "from experience without being explicitly programmed. It focuses on developing computer programs\n",
      "that can access data and use it to learn for themselves.\n",
      "\n",
      "Types\n",
      "-----------------------\n",
      " use it to learn for themselves.\n",
      "\n",
      "Types of Machine Learning:\n",
      "1. Supervised Learning: Learning with labeled data\n",
      "2. Unsupervised Learning: Finding patterns in unlabeled data\n",
      "3. Reinforcement Learning: Learning through rewards\n",
      "----------------------\n",
      "\n",
      "3. Reinforcement Learning: Learning through rewards and penalties\n",
      "\n",
      "Applications include image recognition, speech processing, and recommendation systems\n",
      "\n",
      "\n",
      "    \n"
     ]
    }
   ],
   "source": [
    "tok\n",
    "print(len(tok))\n",
    "print(\"-----------------------\")\n",
    "print(tok[0])\n",
    "print(\"-----------------------\")\n",
    "print(tok[1])\n",
    "print(\"----------------------\")\n",
    "print(tok[2])"
   ]
  },
  {
   "cell_type": "code",
   "execution_count": null,
   "id": "e7828c8a",
   "metadata": {},
   "outputs": [],
   "source": []
  }
 ],
 "metadata": {
  "kernelspec": {
   "display_name": "rag (3.12.7)",
   "language": "python",
   "name": "python3"
  },
  "language_info": {
   "codemirror_mode": {
    "name": "ipython",
    "version": 3
   },
   "file_extension": ".py",
   "mimetype": "text/x-python",
   "name": "python",
   "nbconvert_exporter": "python",
   "pygments_lexer": "ipython3",
   "version": "3.12.7"
  }
 },
 "nbformat": 4,
 "nbformat_minor": 5
}
